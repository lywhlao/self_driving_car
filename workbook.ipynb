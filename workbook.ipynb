{
 "cells": [
  {
   "cell_type": "code",
   "execution_count": 13,
   "id": "d98fd418",
   "metadata": {},
   "outputs": [],
   "source": [
    "import os \n",
    "import pandas as pd\n",
    "import numpy as np\n",
    "import matplotlib.pyplot as plt\n",
    "from sklearn.utils import shuffle\n",
    "from sklearn.model_selection import train_test_split\n",
    "import matplotlib.image as mpimg\n",
    "import cv2\n",
    "from imgaug import augmenters as iaa\n",
    "\n",
    "from tensorflow.keras.models import Sequential\n",
    "from tensorflow.keras.layers import Convolution2D,Flatten,Dense\n",
    "from tensorflow.keras.optimizers import Adam\n",
    "import random\n",
    "\n",
    "path = 'D:\\simulator\\data'"
   ]
  },
  {
   "cell_type": "markdown",
   "id": "975cdf22",
   "metadata": {},
   "source": [
    "# 1.导入数据"
   ]
  },
  {
   "cell_type": "code",
   "execution_count": 2,
   "id": "ddb069f1",
   "metadata": {},
   "outputs": [],
   "source": [
    "def getName(filePath):\n",
    "    return filePath.split('\\\\')[-1]\n",
    " \n",
    "# import data\n",
    "def importDataInfo(path):\n",
    "    columns = ['Center', 'Left', 'Right', 'Steering', 'Throttle', 'Brake', 'Speed']\n",
    "    data = pd.read_csv(os.path.join(path, 'driving_log.csv'), names = columns)\n",
    "    #### REMOVE FILE PATH AND GET ONLY FILE NAME\n",
    "    #print(getName(data['center'][0]))\n",
    "    data['Center']=data['Center'].apply(getName)\n",
    "    #print(data.head())\n",
    "    print('Total Images Imported',data.shape[0])\n",
    "    return data"
   ]
  },
  {
   "cell_type": "markdown",
   "id": "4fa3b558",
   "metadata": {},
   "source": [
    "# 2.平衡数据"
   ]
  },
  {
   "cell_type": "code",
   "execution_count": 3,
   "id": "0a68c2cf",
   "metadata": {},
   "outputs": [],
   "source": [
    "def balanceData(data,display=True):\n",
    "    nBin = 31\n",
    "    samplesPerBin = 500\n",
    "    hist, bins = np.histogram(data['Steering'], nBin)\n",
    "    if display:\n",
    "        center = (bins[:-1] + bins[1:]) * 0.5\n",
    "        plt.bar(center, hist, width=0.06)\n",
    "        plt.plot((np.min(data['Steering']), np.max(data['Steering'])), (samplesPerBin, samplesPerBin))\n",
    "        plt.show()\n",
    "    #remove data\n",
    "    removeindexList = []\n",
    "    for j in range(nBin):\n",
    "        binDataList = []\n",
    "        for i in range(len(data['Steering'])):\n",
    "            if data['Steering'][i] >= bins[j] and data['Steering'][i] <= bins[j + 1]:\n",
    "                binDataList.append(i)\n",
    "        binDataList = shuffle(binDataList)\n",
    "        binDataList = binDataList[samplesPerBin:]\n",
    "        removeindexList.extend(binDataList)\n",
    " \n",
    "    print('Removed Images:', len(removeindexList))\n",
    "    data.drop(data.index[removeindexList], inplace=True)\n",
    "    print('Remaining Images:', len(data))\n",
    "    if display:\n",
    "        hist, _ = np.histogram(data['Steering'], (nBin))\n",
    "        plt.bar(center, hist, width=0.06)\n",
    "        plt.plot((np.min(data['Steering']), np.max(data['Steering'])), (samplesPerBin, samplesPerBin))\n",
    "        plt.show()"
   ]
  },
  {
   "cell_type": "markdown",
   "id": "8ed19906",
   "metadata": {},
   "source": [
    "# 3.加载数据"
   ]
  },
  {
   "cell_type": "code",
   "execution_count": 4,
   "id": "6fd5c8b1",
   "metadata": {},
   "outputs": [],
   "source": [
    "def load_data(data):\n",
    "    image_list=[]\n",
    "    steering_list=[]\n",
    "    for i in range(len(data)):\n",
    "        row_data=data.iloc[i]\n",
    "        image_list.append(row_data.iloc[0])\n",
    "        steering_list.append(row_data.iloc[3])\n",
    "    return np.asarray(image_list),np.asarray(steering_list,dtype=np.float32)"
   ]
  },
  {
   "cell_type": "markdown",
   "id": "478d7fad",
   "metadata": {},
   "source": [
    "# 4.图像变换"
   ]
  },
  {
   "cell_type": "code",
   "execution_count": 29,
   "id": "b7f7b49c",
   "metadata": {},
   "outputs": [],
   "source": [
    "def augment_image(imgPath,steering):\n",
    "    img =  mpimg.imread(imgPath)\n",
    "    if np.random.rand() < 0.5:\n",
    "        pan = iaa.Affine(translate_percent={\"x\": (-0.1, 0.1), \"y\": (-0.1, 0.1)})\n",
    "        img = pan.augment_image(img)\n",
    "    if np.random.rand() < 0.5:\n",
    "        zoom = iaa.Affine(scale=(1, 1.2))\n",
    "        img = zoom.augment_image(img)\n",
    "    if np.random.rand() < 0.5:\n",
    "        brightness = iaa.Multiply((0.2, 1.2))\n",
    "        img = brightness.augment_image(img)\n",
    "    if np.random.rand() < 0.5:\n",
    "        img = cv2.flip(img, 1)\n",
    "        steering = -steering\n",
    "    return img, steering"
   ]
  },
  {
   "cell_type": "code",
   "execution_count": 30,
   "id": "23fd9c66",
   "metadata": {},
   "outputs": [],
   "source": [
    "def preProcess(img):\n",
    "    img = img[60:135,:,:]\n",
    "    img = cv2.cvtColor(img, cv2.COLOR_RGB2YUV)\n",
    "    img = cv2.GaussianBlur(img,  (3, 3), 0)\n",
    "    img = cv2.resize(img, (200, 66))\n",
    "    img = img/255\n",
    "    return img"
   ]
  },
  {
   "cell_type": "code",
   "execution_count": 31,
   "id": "390c4083",
   "metadata": {},
   "outputs": [],
   "source": [
    "def batch_gen(imagesPath, steeringList, batchSize, trainFlag):\n",
    "    while True:\n",
    "        imgBatch = []\n",
    "        steeringBatch = []\n",
    "\n",
    "        for i in range(batchSize):\n",
    "            index = random.randint(0, len(imagesPath) - 1)\n",
    "            if trainFlag:\n",
    "                img,steering = augment_image(path+\"/IMG/\"+imagesPath[index], steeringList[index])\n",
    "            else:\n",
    "                img = mpimg.imread(path+\"/IMG/\"+imagesPath[index])\n",
    "                steering = steeringList[index]\n",
    "            img = preProcess(img)\n",
    "            imgBatch.append(img)\n",
    "            steeringBatch.append(steering)\n",
    "        yield (np.asarray(imgBatch),np.asarray(steeringBatch))"
   ]
  },
  {
   "cell_type": "markdown",
   "id": "2317e534",
   "metadata": {},
   "source": [
    "# 5.模型定义"
   ]
  },
  {
   "cell_type": "code",
   "execution_count": 32,
   "id": "a2b78437",
   "metadata": {},
   "outputs": [],
   "source": [
    "def createModel():\n",
    "    model = Sequential()\n",
    "    model.add(Convolution2D(24, (5, 5), (2, 2), input_shape=(66, 200, 3), activation='elu'))\n",
    "    model.add(Convolution2D(36, (5, 5), (2, 2), activation='elu'))\n",
    "    model.add(Convolution2D(48, (5, 5), (2, 2), activation='elu'))\n",
    "    model.add(Convolution2D(64, (3, 3), activation='elu'))\n",
    "    model.add(Convolution2D(64, (3, 3), activation='elu'))\n",
    "    model.add(Flatten())\n",
    "    model.add(Dense(100, activation = 'elu'))\n",
    "    model.add(Dense(50, activation = 'elu'))\n",
    "    model.add(Dense(10, activation = 'elu'))\n",
    "    model.add(Dense(1))\n",
    "\n",
    "    model.compile(Adam(lr=0.0001),loss='mse')\n",
    "    return model"
   ]
  },
  {
   "cell_type": "markdown",
   "id": "b43d6491",
   "metadata": {},
   "source": [
    "# 程序入口"
   ]
  },
  {
   "cell_type": "code",
   "execution_count": 33,
   "id": "0de64edd",
   "metadata": {},
   "outputs": [
    {
     "name": "stdout",
     "output_type": "stream",
     "text": [
      "Total Images Imported 4828\n",
      "Removed Images: 3188\n",
      "Remaining Images: 1640\n",
      "Total Training Images:  1312\n",
      "Total Validation Images:  328\n",
      "Epoch 1/10\n",
      "300/300 [==============================] - 122s 406ms/step - loss: 0.0551 - val_loss: 0.0377\n",
      "Epoch 2/10\n",
      "300/300 [==============================] - 120s 401ms/step - loss: 0.0429 - val_loss: 0.0325\n",
      "Epoch 3/10\n",
      "300/300 [==============================] - 120s 400ms/step - loss: 0.0412 - val_loss: 0.0331\n",
      "Epoch 4/10\n",
      "300/300 [==============================] - 119s 397ms/step - loss: 0.0390 - val_loss: 0.0319\n",
      "Epoch 5/10\n",
      "300/300 [==============================] - 119s 398ms/step - loss: 0.0376 - val_loss: 0.0322\n",
      "Epoch 6/10\n",
      "300/300 [==============================] - 118s 394ms/step - loss: 0.0356 - val_loss: 0.0285\n",
      "Epoch 7/10\n",
      "300/300 [==============================] - 118s 394ms/step - loss: 0.0346 - val_loss: 0.0282\n",
      "Epoch 8/10\n",
      "300/300 [==============================] - 117s 392ms/step - loss: 0.0326 - val_loss: 0.0273\n",
      "Epoch 9/10\n",
      "300/300 [==============================] - 118s 393ms/step - loss: 0.0316 - val_loss: 0.0270\n",
      "Epoch 10/10\n",
      "300/300 [==============================] - 118s 395ms/step - loss: 0.0307 - val_loss: 0.0267\n"
     ]
    }
   ],
   "source": [
    "data = importDataInfo(path)\n",
    "\n",
    "#balance\n",
    "balanceData(data,False)\n",
    "\n",
    "#load data\n",
    "iamge_path,sterring_list=load_data(data)\n",
    "\n",
    "#split\n",
    "xTrain, xVal, yTrain, yVal = train_test_split(iamge_path, sterring_list, test_size=0.2,random_state=10)\n",
    "print('Total Training Images: ',len(xTrain))\n",
    "print('Total Validation Images: ',len(xVal))\n",
    "\n",
    "model = createModel()\n",
    "# model.summary()\n",
    "\n",
    "history=model.fit(batch_gen(xTrain,yTrain,100,True),steps_per_epoch=300,epochs=10,\n",
    "         validation_data=batch_gen(xVal,yVal,100,False),validation_steps=200)\n",
    "\n",
    "model.save('model.h5')"
   ]
  },
  {
   "cell_type": "code",
   "execution_count": 34,
   "id": "9ab6e750",
   "metadata": {},
   "outputs": [
    {
     "data": {
      "image/png": "[encoded data removed]",
      "text/plain": [
       "<Figure size 432x288 with 1 Axes>"
      ]
     },
     "metadata": {
      "needs_background": "light"
     },
     "output_type": "display_data"
    }
   ],
   "source": [
    "plt.plot(history.history['loss'])\n",
    "plt.plot(history.history['val_loss'])\n",
    "plt.legend(['Training','Validation'])\n",
    "plt.title('Loss')\n",
    "plt.xlabel('Epoch')\n",
    "plt.show()"
   ]
  },
  {
   "cell_type": "code",
   "execution_count": 97,
   "id": "8cb49f09",
   "metadata": {},
   "outputs": [
    {
     "name": "stdout",
     "output_type": "stream",
     "text": [
      "Num GPUs Available:  0\n"
     ]
    }
   ],
   "source": []
  },
  {
   "cell_type": "code",
   "execution_count": null,
   "id": "a4cfb47f",
   "metadata": {
    "collapsed": true
   },
   "outputs": [],
   "source": []
  }
 ],
 "metadata": {
  "kernelspec": {
   "display_name": "Python 3",
   "language": "python",
   "name": "python3"
  },
  "language_info": {
   "codemirror_mode": {
    "name": "ipython",
    "version": 3
   },
   "file_extension": ".py",
   "mimetype": "text/x-python",
   "name": "python",
   "nbconvert_exporter": "python",
   "pygments_lexer": "ipython3",
   "version": "3.6.13"
  }
 },
 "nbformat": 4,
 "nbformat_minor": 5
}
